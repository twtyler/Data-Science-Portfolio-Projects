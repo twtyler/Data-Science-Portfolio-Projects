{
 "cells": [
  {
   "cell_type": "markdown",
   "id": "87cf3c24",
   "metadata": {},
   "source": [
    "### importing the python libraries"
   ]
  },
  {
   "cell_type": "code",
   "execution_count": 1,
   "id": "31b43750",
   "metadata": {},
   "outputs": [],
   "source": [
    "import pandas as  pd # Pandas libraries for manipulation of data\n",
    "import sqlite3 # Database libraries"
   ]
  },
  {
   "cell_type": "markdown",
   "id": "cb7a96a7",
   "metadata": {},
   "source": [
    "### initialization"
   ]
  },
  {
   "cell_type": "code",
   "execution_count": 2,
   "id": "f777a695",
   "metadata": {},
   "outputs": [],
   "source": [
    "conn = sqlite3.connect(\"data.db\") # Creating data base called data. \n",
    "curr = conn.cursor() # Connecting the created database to conn.cursor() method."
   ]
  },
  {
   "cell_type": "markdown",
   "id": "f0cbab84",
   "metadata": {},
   "source": [
    "### Importing the csv files"
   ]
  },
  {
   "cell_type": "markdown",
   "id": "73691877",
   "metadata": {},
   "source": [
    "### Features_data - Table"
   ]
  },
  {
   "cell_type": "code",
   "execution_count": 3,
   "id": "7a6a3182",
   "metadata": {},
   "outputs": [],
   "source": [
    "df = pd.read_csv('Features_data_set.csv') # Importing the Features data set"
   ]
  },
  {
   "cell_type": "code",
   "execution_count": 4,
   "id": "e1cdea77",
   "metadata": {},
   "outputs": [
    {
     "data": {
      "text/plain": [
       "(8190, 12)"
      ]
     },
     "execution_count": 4,
     "metadata": {},
     "output_type": "execute_result"
    }
   ],
   "source": [
    "df.shape # Finding the number of observations and variables in the data set."
   ]
  },
  {
   "cell_type": "code",
   "execution_count": 5,
   "id": "65a04567",
   "metadata": {},
   "outputs": [
    {
     "data": {
      "text/plain": [
       "2"
      ]
     },
     "execution_count": 5,
     "metadata": {},
     "output_type": "execute_result"
    }
   ],
   "source": [
    "df.ndim # Finding the number of dimensions"
   ]
  },
  {
   "cell_type": "code",
   "execution_count": 6,
   "id": "b89820d5",
   "metadata": {},
   "outputs": [
    {
     "name": "stdout",
     "output_type": "stream",
     "text": [
      "<class 'pandas.core.frame.DataFrame'>\n",
      "RangeIndex: 8190 entries, 0 to 8189\n",
      "Data columns (total 12 columns):\n",
      " #   Column        Non-Null Count  Dtype  \n",
      "---  ------        --------------  -----  \n",
      " 0   Store         8190 non-null   int64  \n",
      " 1   Date          8190 non-null   object \n",
      " 2   Temperature   8190 non-null   float64\n",
      " 3   Fuel_Price    8190 non-null   float64\n",
      " 4   MarkDown1     4032 non-null   float64\n",
      " 5   MarkDown2     2921 non-null   float64\n",
      " 6   MarkDown3     3613 non-null   float64\n",
      " 7   MarkDown4     3464 non-null   float64\n",
      " 8   MarkDown5     4050 non-null   float64\n",
      " 9   CPI           7605 non-null   float64\n",
      " 10  Unemployment  7605 non-null   float64\n",
      " 11  IsHoliday     8190 non-null   bool   \n",
      "dtypes: bool(1), float64(9), int64(1), object(1)\n",
      "memory usage: 712.0+ KB\n"
     ]
    }
   ],
   "source": [
    "df.info() # Understanding the structure of the dataset"
   ]
  },
  {
   "cell_type": "code",
   "execution_count": 7,
   "id": "368fe648",
   "metadata": {},
   "outputs": [
    {
     "data": {
      "text/html": [
       "<div>\n",
       "<style scoped>\n",
       "    .dataframe tbody tr th:only-of-type {\n",
       "        vertical-align: middle;\n",
       "    }\n",
       "\n",
       "    .dataframe tbody tr th {\n",
       "        vertical-align: top;\n",
       "    }\n",
       "\n",
       "    .dataframe thead th {\n",
       "        text-align: right;\n",
       "    }\n",
       "</style>\n",
       "<table border=\"1\" class=\"dataframe\">\n",
       "  <thead>\n",
       "    <tr style=\"text-align: right;\">\n",
       "      <th></th>\n",
       "      <th>Store</th>\n",
       "      <th>Temperature</th>\n",
       "      <th>Fuel_Price</th>\n",
       "      <th>MarkDown1</th>\n",
       "      <th>MarkDown2</th>\n",
       "      <th>MarkDown3</th>\n",
       "      <th>MarkDown4</th>\n",
       "      <th>MarkDown5</th>\n",
       "      <th>CPI</th>\n",
       "      <th>Unemployment</th>\n",
       "    </tr>\n",
       "  </thead>\n",
       "  <tbody>\n",
       "    <tr>\n",
       "      <th>count</th>\n",
       "      <td>8190.000000</td>\n",
       "      <td>8190.000000</td>\n",
       "      <td>8190.000000</td>\n",
       "      <td>4032.000000</td>\n",
       "      <td>2921.000000</td>\n",
       "      <td>3613.000000</td>\n",
       "      <td>3464.000000</td>\n",
       "      <td>4050.000000</td>\n",
       "      <td>7605.000000</td>\n",
       "      <td>7605.000000</td>\n",
       "    </tr>\n",
       "    <tr>\n",
       "      <th>mean</th>\n",
       "      <td>23.000000</td>\n",
       "      <td>59.356198</td>\n",
       "      <td>3.405992</td>\n",
       "      <td>7032.371786</td>\n",
       "      <td>3384.176594</td>\n",
       "      <td>1760.100180</td>\n",
       "      <td>3292.935886</td>\n",
       "      <td>4132.216422</td>\n",
       "      <td>172.460809</td>\n",
       "      <td>7.826821</td>\n",
       "    </tr>\n",
       "    <tr>\n",
       "      <th>std</th>\n",
       "      <td>12.987966</td>\n",
       "      <td>18.678607</td>\n",
       "      <td>0.431337</td>\n",
       "      <td>9262.747448</td>\n",
       "      <td>8793.583016</td>\n",
       "      <td>11276.462208</td>\n",
       "      <td>6792.329861</td>\n",
       "      <td>13086.690278</td>\n",
       "      <td>39.738346</td>\n",
       "      <td>1.877259</td>\n",
       "    </tr>\n",
       "    <tr>\n",
       "      <th>min</th>\n",
       "      <td>1.000000</td>\n",
       "      <td>-7.290000</td>\n",
       "      <td>2.472000</td>\n",
       "      <td>-2781.450000</td>\n",
       "      <td>-265.760000</td>\n",
       "      <td>-179.260000</td>\n",
       "      <td>0.220000</td>\n",
       "      <td>-185.170000</td>\n",
       "      <td>126.064000</td>\n",
       "      <td>3.684000</td>\n",
       "    </tr>\n",
       "    <tr>\n",
       "      <th>25%</th>\n",
       "      <td>12.000000</td>\n",
       "      <td>45.902500</td>\n",
       "      <td>3.041000</td>\n",
       "      <td>1577.532500</td>\n",
       "      <td>68.880000</td>\n",
       "      <td>6.600000</td>\n",
       "      <td>304.687500</td>\n",
       "      <td>1440.827500</td>\n",
       "      <td>132.364839</td>\n",
       "      <td>6.634000</td>\n",
       "    </tr>\n",
       "    <tr>\n",
       "      <th>50%</th>\n",
       "      <td>23.000000</td>\n",
       "      <td>60.710000</td>\n",
       "      <td>3.513000</td>\n",
       "      <td>4743.580000</td>\n",
       "      <td>364.570000</td>\n",
       "      <td>36.260000</td>\n",
       "      <td>1176.425000</td>\n",
       "      <td>2727.135000</td>\n",
       "      <td>182.764003</td>\n",
       "      <td>7.806000</td>\n",
       "    </tr>\n",
       "    <tr>\n",
       "      <th>75%</th>\n",
       "      <td>34.000000</td>\n",
       "      <td>73.880000</td>\n",
       "      <td>3.743000</td>\n",
       "      <td>8923.310000</td>\n",
       "      <td>2153.350000</td>\n",
       "      <td>163.150000</td>\n",
       "      <td>3310.007500</td>\n",
       "      <td>4832.555000</td>\n",
       "      <td>213.932412</td>\n",
       "      <td>8.567000</td>\n",
       "    </tr>\n",
       "    <tr>\n",
       "      <th>max</th>\n",
       "      <td>45.000000</td>\n",
       "      <td>101.950000</td>\n",
       "      <td>4.468000</td>\n",
       "      <td>103184.980000</td>\n",
       "      <td>104519.540000</td>\n",
       "      <td>149483.310000</td>\n",
       "      <td>67474.850000</td>\n",
       "      <td>771448.100000</td>\n",
       "      <td>228.976456</td>\n",
       "      <td>14.313000</td>\n",
       "    </tr>\n",
       "  </tbody>\n",
       "</table>\n",
       "</div>"
      ],
      "text/plain": [
       "             Store  Temperature   Fuel_Price      MarkDown1      MarkDown2  \\\n",
       "count  8190.000000  8190.000000  8190.000000    4032.000000    2921.000000   \n",
       "mean     23.000000    59.356198     3.405992    7032.371786    3384.176594   \n",
       "std      12.987966    18.678607     0.431337    9262.747448    8793.583016   \n",
       "min       1.000000    -7.290000     2.472000   -2781.450000    -265.760000   \n",
       "25%      12.000000    45.902500     3.041000    1577.532500      68.880000   \n",
       "50%      23.000000    60.710000     3.513000    4743.580000     364.570000   \n",
       "75%      34.000000    73.880000     3.743000    8923.310000    2153.350000   \n",
       "max      45.000000   101.950000     4.468000  103184.980000  104519.540000   \n",
       "\n",
       "           MarkDown3     MarkDown4      MarkDown5          CPI  Unemployment  \n",
       "count    3613.000000   3464.000000    4050.000000  7605.000000   7605.000000  \n",
       "mean     1760.100180   3292.935886    4132.216422   172.460809      7.826821  \n",
       "std     11276.462208   6792.329861   13086.690278    39.738346      1.877259  \n",
       "min      -179.260000      0.220000    -185.170000   126.064000      3.684000  \n",
       "25%         6.600000    304.687500    1440.827500   132.364839      6.634000  \n",
       "50%        36.260000   1176.425000    2727.135000   182.764003      7.806000  \n",
       "75%       163.150000   3310.007500    4832.555000   213.932412      8.567000  \n",
       "max    149483.310000  67474.850000  771448.100000   228.976456     14.313000  "
      ]
     },
     "execution_count": 7,
     "metadata": {},
     "output_type": "execute_result"
    }
   ],
   "source": [
    "df.describe() # Statistical description of the dataset."
   ]
  },
  {
   "cell_type": "markdown",
   "id": "98327a77",
   "metadata": {},
   "source": [
    "#### Data Preprocessing on Features_data table"
   ]
  },
  {
   "cell_type": "code",
   "execution_count": 8,
   "id": "44290784",
   "metadata": {},
   "outputs": [
    {
     "data": {
      "text/plain": [
       "Store              0\n",
       "Date               0\n",
       "Temperature        0\n",
       "Fuel_Price         0\n",
       "MarkDown1       4158\n",
       "MarkDown2       5269\n",
       "MarkDown3       4577\n",
       "MarkDown4       4726\n",
       "MarkDown5       4140\n",
       "CPI              585\n",
       "Unemployment     585\n",
       "IsHoliday          0\n",
       "dtype: int64"
      ]
     },
     "execution_count": 8,
     "metadata": {},
     "output_type": "execute_result"
    }
   ],
   "source": [
    "df.isna().sum() # Finding the missing values in the variables."
   ]
  },
  {
   "cell_type": "code",
   "execution_count": 9,
   "id": "85f0dea3",
   "metadata": {},
   "outputs": [],
   "source": [
    "# replacing NaN in the MarkDown variables with 0.\n",
    "df['MarkDown1'] = df['MarkDown1'].fillna(0)\n",
    "df['MarkDown2'] = df['MarkDown2'].fillna(0)\n",
    "df['MarkDown3'] = df['MarkDown3'].fillna(0)\n",
    "df['MarkDown4'] = df['MarkDown4'].fillna(0)\n",
    "df['MarkDown5'] = df['MarkDown5'].fillna(0)"
   ]
  },
  {
   "cell_type": "code",
   "execution_count": 10,
   "id": "6861da0c",
   "metadata": {},
   "outputs": [],
   "source": [
    "# Converting negative values to positive values using abs() function\n",
    "df['MarkDown1'] = df['MarkDown1'].abs()\n",
    "df['MarkDown2'] = df['MarkDown2'].abs()\n",
    "df['MarkDown3'] = df['MarkDown3'].abs()\n",
    "df['MarkDown4'] = df['MarkDown4'].abs()\n",
    "df['MarkDown5'] = df['MarkDown5'].abs()\n",
    "df['Temperature'] = df['Temperature'].abs()\n",
    "df['Fuel_Price'] = df['Fuel_Price'].abs()\n",
    "df['CPI'] = df['CPI'].abs()\n",
    "df['Unemployment'] = df['Unemployment'].abs()\n",
    "\n"
   ]
  },
  {
   "cell_type": "code",
   "execution_count": 11,
   "id": "4a06f5f3",
   "metadata": {},
   "outputs": [],
   "source": [
    "# Imputation on CPI and Unemployment variables with median \n",
    "# df.fillna(df.median(numeric_only=True).round(1),inplace=True )\n",
    "df.fillna({\"CPI\": df['CPI'].median(),\"Unemployment\": df['Unemployment'].median()}, inplace=True)\n"
   ]
  },
  {
   "cell_type": "code",
   "execution_count": 12,
   "id": "068c742b",
   "metadata": {},
   "outputs": [
    {
     "data": {
      "text/plain": [
       "Store           0\n",
       "Date            0\n",
       "Temperature     0\n",
       "Fuel_Price      0\n",
       "MarkDown1       0\n",
       "MarkDown2       0\n",
       "MarkDown3       0\n",
       "MarkDown4       0\n",
       "MarkDown5       0\n",
       "CPI             0\n",
       "Unemployment    0\n",
       "IsHoliday       0\n",
       "dtype: int64"
      ]
     },
     "execution_count": 12,
     "metadata": {},
     "output_type": "execute_result"
    }
   ],
   "source": [
    "# Confirming the cleaning of the dataset.\n",
    "df.isnull().sum()"
   ]
  },
  {
   "cell_type": "code",
   "execution_count": 13,
   "id": "9d8ad57d",
   "metadata": {},
   "outputs": [
    {
     "data": {
      "text/html": [
       "<div>\n",
       "<style scoped>\n",
       "    .dataframe tbody tr th:only-of-type {\n",
       "        vertical-align: middle;\n",
       "    }\n",
       "\n",
       "    .dataframe tbody tr th {\n",
       "        vertical-align: top;\n",
       "    }\n",
       "\n",
       "    .dataframe thead th {\n",
       "        text-align: right;\n",
       "    }\n",
       "</style>\n",
       "<table border=\"1\" class=\"dataframe\">\n",
       "  <thead>\n",
       "    <tr style=\"text-align: right;\">\n",
       "      <th></th>\n",
       "      <th>Store</th>\n",
       "      <th>Date</th>\n",
       "      <th>Temperature</th>\n",
       "      <th>Fuel_Price</th>\n",
       "      <th>MarkDown1</th>\n",
       "      <th>MarkDown2</th>\n",
       "      <th>MarkDown3</th>\n",
       "      <th>MarkDown4</th>\n",
       "      <th>MarkDown5</th>\n",
       "      <th>CPI</th>\n",
       "      <th>Unemployment</th>\n",
       "      <th>IsHoliday</th>\n",
       "    </tr>\n",
       "  </thead>\n",
       "  <tbody>\n",
       "    <tr>\n",
       "      <th>0</th>\n",
       "      <td>1</td>\n",
       "      <td>05/02/2010</td>\n",
       "      <td>42.31</td>\n",
       "      <td>2.572</td>\n",
       "      <td>0.0</td>\n",
       "      <td>0.0</td>\n",
       "      <td>0.0</td>\n",
       "      <td>0.0</td>\n",
       "      <td>0.0</td>\n",
       "      <td>211.096358</td>\n",
       "      <td>8.106</td>\n",
       "      <td>False</td>\n",
       "    </tr>\n",
       "    <tr>\n",
       "      <th>1</th>\n",
       "      <td>1</td>\n",
       "      <td>12/02/2010</td>\n",
       "      <td>38.51</td>\n",
       "      <td>2.548</td>\n",
       "      <td>0.0</td>\n",
       "      <td>0.0</td>\n",
       "      <td>0.0</td>\n",
       "      <td>0.0</td>\n",
       "      <td>0.0</td>\n",
       "      <td>211.242170</td>\n",
       "      <td>8.106</td>\n",
       "      <td>True</td>\n",
       "    </tr>\n",
       "    <tr>\n",
       "      <th>2</th>\n",
       "      <td>1</td>\n",
       "      <td>19/02/2010</td>\n",
       "      <td>39.93</td>\n",
       "      <td>2.514</td>\n",
       "      <td>0.0</td>\n",
       "      <td>0.0</td>\n",
       "      <td>0.0</td>\n",
       "      <td>0.0</td>\n",
       "      <td>0.0</td>\n",
       "      <td>211.289143</td>\n",
       "      <td>8.106</td>\n",
       "      <td>False</td>\n",
       "    </tr>\n",
       "    <tr>\n",
       "      <th>3</th>\n",
       "      <td>1</td>\n",
       "      <td>26/02/2010</td>\n",
       "      <td>46.63</td>\n",
       "      <td>2.561</td>\n",
       "      <td>0.0</td>\n",
       "      <td>0.0</td>\n",
       "      <td>0.0</td>\n",
       "      <td>0.0</td>\n",
       "      <td>0.0</td>\n",
       "      <td>211.319643</td>\n",
       "      <td>8.106</td>\n",
       "      <td>False</td>\n",
       "    </tr>\n",
       "    <tr>\n",
       "      <th>4</th>\n",
       "      <td>1</td>\n",
       "      <td>05/03/2010</td>\n",
       "      <td>46.50</td>\n",
       "      <td>2.625</td>\n",
       "      <td>0.0</td>\n",
       "      <td>0.0</td>\n",
       "      <td>0.0</td>\n",
       "      <td>0.0</td>\n",
       "      <td>0.0</td>\n",
       "      <td>211.350143</td>\n",
       "      <td>8.106</td>\n",
       "      <td>False</td>\n",
       "    </tr>\n",
       "  </tbody>\n",
       "</table>\n",
       "</div>"
      ],
      "text/plain": [
       "   Store        Date  Temperature  Fuel_Price  MarkDown1  MarkDown2  \\\n",
       "0      1  05/02/2010        42.31       2.572        0.0        0.0   \n",
       "1      1  12/02/2010        38.51       2.548        0.0        0.0   \n",
       "2      1  19/02/2010        39.93       2.514        0.0        0.0   \n",
       "3      1  26/02/2010        46.63       2.561        0.0        0.0   \n",
       "4      1  05/03/2010        46.50       2.625        0.0        0.0   \n",
       "\n",
       "   MarkDown3  MarkDown4  MarkDown5         CPI  Unemployment  IsHoliday  \n",
       "0        0.0        0.0        0.0  211.096358         8.106      False  \n",
       "1        0.0        0.0        0.0  211.242170         8.106       True  \n",
       "2        0.0        0.0        0.0  211.289143         8.106      False  \n",
       "3        0.0        0.0        0.0  211.319643         8.106      False  \n",
       "4        0.0        0.0        0.0  211.350143         8.106      False  "
      ]
     },
     "execution_count": 13,
     "metadata": {},
     "output_type": "execute_result"
    }
   ],
   "source": [
    "df.head(5) # View the first five observations of the dataset"
   ]
  },
  {
   "cell_type": "markdown",
   "id": "defeb731",
   "metadata": {},
   "source": [
    "#### Creating columns and inserting the features table into the database - data in SQLite"
   ]
  },
  {
   "cell_type": "code",
   "execution_count": 14,
   "id": "d2673432",
   "metadata": {},
   "outputs": [
    {
     "name": "stdout",
     "output_type": "stream",
     "text": [
      "table created successfully\n"
     ]
    }
   ],
   "source": [
    "curr.execute(\"drop table if exists features_data\") \n",
    "# creating the variables or columns for the features table\n",
    "curr.execute(\"create table features_data (store int,date Text, temperature double, fuel_price double,mk1 double,mk2 double,mk3 double,mk4 double,mk5 double,cpi double,unemployment double,FOREIGN KEY (date) REFERENCES date_isholiday (date),FOREIGN KEY (store) REFERENCES store_data (store),PRIMARY KEY (store,date), unique(store,date))\")\n",
    "print(\"table created successfully\")"
   ]
  },
  {
   "cell_type": "code",
   "execution_count": 15,
   "id": "8dffb23d",
   "metadata": {},
   "outputs": [
    {
     "name": "stdout",
     "output_type": "stream",
     "text": [
      "data inserted successfullly\n"
     ]
    }
   ],
   "source": [
    "# df2 = df2.reset_index()   # make sure indexes pair with number of rows\n",
    "for index,row in df.iterrows():\n",
    "    curr.execute(\"insert into features_data (store,date, temperature, fuel_price, mk1,mk2,mk3,mk4,mk5, cpi,unemployment) values(?,?,?,?,?,?,?,?,?,?,?)\",(row['Store'],row['Date'],row['Temperature'],row['Fuel_Price'],row['MarkDown1'],row['MarkDown2'],row['MarkDown3'],row['MarkDown4'],row['MarkDown5'],row['CPI'],row['Unemployment']))\n",
    "conn.commit() # Inserting and saving the data into the database\n",
    "print(\"data inserted successfullly\")"
   ]
  },
  {
   "cell_type": "markdown",
   "id": "e3f17ca7",
   "metadata": {},
   "source": [
    "### Date_holiday- Table"
   ]
  },
  {
   "cell_type": "code",
   "execution_count": 16,
   "id": "8219a4a9",
   "metadata": {},
   "outputs": [],
   "source": [
    "date_isholiday = {\n",
    "    \"date\":df['Date'].tolist(),\n",
    "    \"isholiday\":df['IsHoliday'].tolist()\n",
    "}\n",
    "\n",
    "ddh = pd.DataFrame(date_isholiday) #Converting the date to datafame"
   ]
  },
  {
   "cell_type": "code",
   "execution_count": 17,
   "id": "d67dbefc",
   "metadata": {},
   "outputs": [],
   "source": [
    "ddh =ddh.drop_duplicates(subset='date', keep=\"first\")"
   ]
  },
  {
   "cell_type": "markdown",
   "id": "958db993",
   "metadata": {},
   "source": [
    "#### Creating columns and inserting the Date_holiday table into the database - data in SQLite"
   ]
  },
  {
   "cell_type": "code",
   "execution_count": 18,
   "id": "dd938c71",
   "metadata": {},
   "outputs": [
    {
     "name": "stdout",
     "output_type": "stream",
     "text": [
      "table created successfully\n"
     ]
    }
   ],
   "source": [
    "curr.execute(\"drop table if exists date_isholiday\")\n",
    "# creating the variables or columns for the Date_holiday table\n",
    "curr.execute(\"create table date_isholiday (date Text,isholiday BOOLEAN,PRIMARY KEY (date),unique(date))\")\n",
    "print(\"table created successfully\")"
   ]
  },
  {
   "cell_type": "code",
   "execution_count": 19,
   "id": "dcef86a4",
   "metadata": {},
   "outputs": [
    {
     "name": "stdout",
     "output_type": "stream",
     "text": [
      "data inserted successfullly\n"
     ]
    }
   ],
   "source": [
    "# df2 = df2.reset_index()   # make sure indexes pair with number of rows\n",
    "for index,row in ddh.iterrows():\n",
    "    curr.execute(\"insert into date_isholiday (date,isholiday) values(?,?)\",(row['date'],row['isholiday']))\n",
    "conn.commit() # Inserting and saving the data into the database\n",
    "print(\"data inserted successfullly\")"
   ]
  },
  {
   "cell_type": "markdown",
   "id": "54f9859d",
   "metadata": {},
   "source": [
    "### Manager - Table"
   ]
  },
  {
   "cell_type": "code",
   "execution_count": 20,
   "id": "d52c906b",
   "metadata": {},
   "outputs": [],
   "source": [
    "df1 = pd.read_csv('store_info.csv') # Loading the store_info table"
   ]
  },
  {
   "cell_type": "code",
   "execution_count": 21,
   "id": "9fdb44c0",
   "metadata": {},
   "outputs": [
    {
     "data": {
      "text/plain": [
       "(48, 5)"
      ]
     },
     "execution_count": 21,
     "metadata": {},
     "output_type": "execute_result"
    }
   ],
   "source": [
    "df1.shape # Finding out the number of observations and varibles/columns that make up the dataset"
   ]
  },
  {
   "cell_type": "code",
   "execution_count": 22,
   "id": "dd156519",
   "metadata": {},
   "outputs": [
    {
     "data": {
      "text/plain": [
       "2"
      ]
     },
     "execution_count": 22,
     "metadata": {},
     "output_type": "execute_result"
    }
   ],
   "source": [
    "df1.ndim # The dimension of the dataset."
   ]
  },
  {
   "cell_type": "code",
   "execution_count": 23,
   "id": "a736d432",
   "metadata": {},
   "outputs": [
    {
     "name": "stdout",
     "output_type": "stream",
     "text": [
      "<class 'pandas.core.frame.DataFrame'>\n",
      "RangeIndex: 48 entries, 0 to 47\n",
      "Data columns (total 5 columns):\n",
      " #   Column            Non-Null Count  Dtype \n",
      "---  ------            --------------  ----- \n",
      " 0   Store             48 non-null     int64 \n",
      " 1   Manager           45 non-null     object\n",
      " 2   Years_as_manager  48 non-null     int64 \n",
      " 3   Email             46 non-null     object\n",
      " 4   Address           48 non-null     object\n",
      "dtypes: int64(2), object(3)\n",
      "memory usage: 2.0+ KB\n"
     ]
    }
   ],
   "source": [
    "df1.info() # Understanding the structure of the dataset and the variables datatypes."
   ]
  },
  {
   "cell_type": "code",
   "execution_count": 24,
   "id": "fdf0b01d",
   "metadata": {},
   "outputs": [
    {
     "data": {
      "text/html": [
       "<div>\n",
       "<style scoped>\n",
       "    .dataframe tbody tr th:only-of-type {\n",
       "        vertical-align: middle;\n",
       "    }\n",
       "\n",
       "    .dataframe tbody tr th {\n",
       "        vertical-align: top;\n",
       "    }\n",
       "\n",
       "    .dataframe thead th {\n",
       "        text-align: right;\n",
       "    }\n",
       "</style>\n",
       "<table border=\"1\" class=\"dataframe\">\n",
       "  <thead>\n",
       "    <tr style=\"text-align: right;\">\n",
       "      <th></th>\n",
       "      <th>Store</th>\n",
       "      <th>Years_as_manager</th>\n",
       "    </tr>\n",
       "  </thead>\n",
       "  <tbody>\n",
       "    <tr>\n",
       "      <th>count</th>\n",
       "      <td>48.00</td>\n",
       "      <td>48.000000</td>\n",
       "    </tr>\n",
       "    <tr>\n",
       "      <th>mean</th>\n",
       "      <td>24.50</td>\n",
       "      <td>10.020833</td>\n",
       "    </tr>\n",
       "    <tr>\n",
       "      <th>std</th>\n",
       "      <td>14.00</td>\n",
       "      <td>14.052318</td>\n",
       "    </tr>\n",
       "    <tr>\n",
       "      <th>min</th>\n",
       "      <td>1.00</td>\n",
       "      <td>0.000000</td>\n",
       "    </tr>\n",
       "    <tr>\n",
       "      <th>25%</th>\n",
       "      <td>12.75</td>\n",
       "      <td>3.750000</td>\n",
       "    </tr>\n",
       "    <tr>\n",
       "      <th>50%</th>\n",
       "      <td>24.50</td>\n",
       "      <td>9.000000</td>\n",
       "    </tr>\n",
       "    <tr>\n",
       "      <th>75%</th>\n",
       "      <td>36.25</td>\n",
       "      <td>12.250000</td>\n",
       "    </tr>\n",
       "    <tr>\n",
       "      <th>max</th>\n",
       "      <td>48.00</td>\n",
       "      <td>100.000000</td>\n",
       "    </tr>\n",
       "  </tbody>\n",
       "</table>\n",
       "</div>"
      ],
      "text/plain": [
       "       Store  Years_as_manager\n",
       "count  48.00         48.000000\n",
       "mean   24.50         10.020833\n",
       "std    14.00         14.052318\n",
       "min     1.00          0.000000\n",
       "25%    12.75          3.750000\n",
       "50%    24.50          9.000000\n",
       "75%    36.25         12.250000\n",
       "max    48.00        100.000000"
      ]
     },
     "execution_count": 24,
     "metadata": {},
     "output_type": "execute_result"
    }
   ],
   "source": [
    "df1.describe() # Statistical description of the numerical variables."
   ]
  },
  {
   "cell_type": "markdown",
   "id": "5a012584",
   "metadata": {},
   "source": [
    "#### Data Pre-processing - Store_info"
   ]
  },
  {
   "cell_type": "code",
   "execution_count": 25,
   "id": "40658e9d",
   "metadata": {},
   "outputs": [
    {
     "data": {
      "text/plain": [
       "Store               0\n",
       "Manager             3\n",
       "Years_as_manager    0\n",
       "Email               2\n",
       "Address             0\n",
       "dtype: int64"
      ]
     },
     "execution_count": 25,
     "metadata": {},
     "output_type": "execute_result"
    }
   ],
   "source": [
    "df1.isna().sum() # Finding the variables with null values"
   ]
  },
  {
   "cell_type": "code",
   "execution_count": 26,
   "id": "80786122",
   "metadata": {},
   "outputs": [],
   "source": [
    "# df1 = df1[df1['Manager'].notna()]\n",
    "# replacement of empty cells with values\n",
    "df1[\"Manager\"] = df1[\"Manager\"].fillna(\"noname noname\")\n",
    "df1[\"Email\"] = df1[\"Email\"].fillna(\"no email\")"
   ]
  },
  {
   "cell_type": "code",
   "execution_count": 27,
   "id": "7623a7e4",
   "metadata": {},
   "outputs": [
    {
     "data": {
      "text/plain": [
       "Store               0\n",
       "Manager             0\n",
       "Years_as_manager    0\n",
       "Email               0\n",
       "Address             0\n",
       "dtype: int64"
      ]
     },
     "execution_count": 27,
     "metadata": {},
     "output_type": "execute_result"
    }
   ],
   "source": [
    "df1.isna().sum() # Confirming the replacement of the empty cells"
   ]
  },
  {
   "cell_type": "code",
   "execution_count": 28,
   "id": "c273a658",
   "metadata": {},
   "outputs": [],
   "source": [
    "# Splitting of the manager's name into first and last names.\n",
    "firstName = []\n",
    "lastName = []\n",
    "idd = []\n",
    "\n",
    "d = df1['Manager'].tolist()\n",
    "\n",
    "for idx, val in enumerate(d):\n",
    "    newVal = val.split(\" \")\n",
    "    firstName.append(newVal[0])\n",
    "    lastName.append(newVal[1])\n",
    "    dd = idx+1\n",
    "    idd.append(dd)\n",
    "    \n",
    "\n",
    "    \n",
    "df1[\"first_name\"] = firstName\n",
    "df1[\"last_name\"] = lastName\n",
    "df1[\"manager_id\"] = idd\n",
    "\n",
    "\n",
    "\n",
    " \n",
    "    \n",
    "    "
   ]
  },
  {
   "cell_type": "code",
   "execution_count": 29,
   "id": "b2d4e08c",
   "metadata": {},
   "outputs": [],
   "source": [
    "del df1[\"Manager\"] # getting rid of the manager's variable\n"
   ]
  },
  {
   "cell_type": "code",
   "execution_count": 30,
   "id": "1097b71f",
   "metadata": {},
   "outputs": [
    {
     "data": {
      "text/html": [
       "<div>\n",
       "<style scoped>\n",
       "    .dataframe tbody tr th:only-of-type {\n",
       "        vertical-align: middle;\n",
       "    }\n",
       "\n",
       "    .dataframe tbody tr th {\n",
       "        vertical-align: top;\n",
       "    }\n",
       "\n",
       "    .dataframe thead th {\n",
       "        text-align: right;\n",
       "    }\n",
       "</style>\n",
       "<table border=\"1\" class=\"dataframe\">\n",
       "  <thead>\n",
       "    <tr style=\"text-align: right;\">\n",
       "      <th></th>\n",
       "      <th>Store</th>\n",
       "      <th>Years_as_manager</th>\n",
       "      <th>Email</th>\n",
       "      <th>Address</th>\n",
       "      <th>first_name</th>\n",
       "      <th>last_name</th>\n",
       "      <th>manager_id</th>\n",
       "    </tr>\n",
       "  </thead>\n",
       "  <tbody>\n",
       "    <tr>\n",
       "      <th>0</th>\n",
       "      <td>1</td>\n",
       "      <td>1</td>\n",
       "      <td>Robert.Alvey@Walmart.org</td>\n",
       "      <td>4971 Janet Court;Livermore;CA;94550</td>\n",
       "      <td>Robert</td>\n",
       "      <td>Alvey</td>\n",
       "      <td>1</td>\n",
       "    </tr>\n",
       "    <tr>\n",
       "      <th>1</th>\n",
       "      <td>2</td>\n",
       "      <td>11</td>\n",
       "      <td>Jerry.Martinez@Walmart.org</td>\n",
       "      <td>4439 Gale Street;Livermore;CA;94550</td>\n",
       "      <td>Jerry</td>\n",
       "      <td>Martinez</td>\n",
       "      <td>2</td>\n",
       "    </tr>\n",
       "    <tr>\n",
       "      <th>2</th>\n",
       "      <td>3</td>\n",
       "      <td>7</td>\n",
       "      <td>Susanna.Kellner@Walmart.org</td>\n",
       "      <td>856 Milton Street;Oakland;CA;94607</td>\n",
       "      <td>Susanna</td>\n",
       "      <td>Kellner</td>\n",
       "      <td>3</td>\n",
       "    </tr>\n",
       "    <tr>\n",
       "      <th>3</th>\n",
       "      <td>4</td>\n",
       "      <td>1</td>\n",
       "      <td>Marco.Spivey@Walmart.org</td>\n",
       "      <td>474 Merritt Avenue;Oakland;CA;94610</td>\n",
       "      <td>Marco</td>\n",
       "      <td>Spivey</td>\n",
       "      <td>4</td>\n",
       "    </tr>\n",
       "    <tr>\n",
       "      <th>4</th>\n",
       "      <td>5</td>\n",
       "      <td>13</td>\n",
       "      <td>Timothy.Narvaez@Walmart.org</td>\n",
       "      <td>129 Grant Street;Redlands;CA;92373</td>\n",
       "      <td>Timothy</td>\n",
       "      <td>Narvaez</td>\n",
       "      <td>5</td>\n",
       "    </tr>\n",
       "  </tbody>\n",
       "</table>\n",
       "</div>"
      ],
      "text/plain": [
       "   Store  Years_as_manager                        Email  \\\n",
       "0      1                 1     Robert.Alvey@Walmart.org   \n",
       "1      2                11   Jerry.Martinez@Walmart.org   \n",
       "2      3                 7  Susanna.Kellner@Walmart.org   \n",
       "3      4                 1     Marco.Spivey@Walmart.org   \n",
       "4      5                13  Timothy.Narvaez@Walmart.org   \n",
       "\n",
       "                               Address first_name last_name  manager_id  \n",
       "0  4971 Janet Court;Livermore;CA;94550     Robert     Alvey           1  \n",
       "1  4439 Gale Street;Livermore;CA;94550      Jerry  Martinez           2  \n",
       "2   856 Milton Street;Oakland;CA;94607    Susanna   Kellner           3  \n",
       "3  474 Merritt Avenue;Oakland;CA;94610      Marco    Spivey           4  \n",
       "4   129 Grant Street;Redlands;CA;92373    Timothy   Narvaez           5  "
      ]
     },
     "execution_count": 30,
     "metadata": {},
     "output_type": "execute_result"
    }
   ],
   "source": [
    "df1.head(5) # View the first five observations after the splitting of names."
   ]
  },
  {
   "cell_type": "markdown",
   "id": "35af796f",
   "metadata": {},
   "source": [
    "#### Creating columns and inserting the Store_info table into the database - data in SQLite"
   ]
  },
  {
   "cell_type": "code",
   "execution_count": 31,
   "id": "019b6f6c",
   "metadata": {},
   "outputs": [
    {
     "name": "stdout",
     "output_type": "stream",
     "text": [
      "table created successfully\n"
     ]
    }
   ],
   "source": [
    "curr.execute(\"drop table if exists manager\")\n",
    "# creating the variables or columns for the Store_info table\n",
    "curr.execute(\"create table manager (manager_id text,first_name Text,last_name Text, year_as_manager int, email Text,postal_code int,PRIMARY KEY (manager_id),FOREIGN KEY (postal_code) REFERENCES address (postal_code),unique(manager_id))\")\n",
    "print(\"table created successfully\")\n"
   ]
  },
  {
   "cell_type": "code",
   "execution_count": 32,
   "id": "876b2bb1",
   "metadata": {},
   "outputs": [],
   "source": [
    "## Transformation on the Address\n",
    "data = df1[\"Address\"].tolist()\n",
    "city = []\n",
    "state = []\n",
    "postal =[]\n",
    "address = []\n",
    "for item in data:\n",
    "    newData=item.split(\";\")\n",
    "    city.append(newData[1])\n",
    "    state.append(newData[2])\n",
    "    postal.append(newData[3])\n",
    "    address.append(newData[0])"
   ]
  },
  {
   "cell_type": "code",
   "execution_count": 33,
   "id": "4ba95db9",
   "metadata": {},
   "outputs": [],
   "source": [
    "del df1['Address']"
   ]
  },
  {
   "cell_type": "code",
   "execution_count": 34,
   "id": "d65801be",
   "metadata": {},
   "outputs": [],
   "source": [
    "df1[\"postal_code\"] = postal"
   ]
  },
  {
   "cell_type": "code",
   "execution_count": 35,
   "id": "084a703a",
   "metadata": {},
   "outputs": [
    {
     "name": "stdout",
     "output_type": "stream",
     "text": [
      "data inserted successfullly\n"
     ]
    }
   ],
   "source": [
    "# df2 = df2.reset_index()   # make sure indexes pair with number of rows\n",
    "for index,row in df1.iterrows():\n",
    "    curr.execute(\"insert into manager (manager_id,first_name,last_name,year_as_manager,email,postal_code) values(?,?,?,?,?,?)\",(row['manager_id'],row['first_name'],row['last_name'],row['Years_as_manager'],row['Email'],row['postal_code']))\n",
    "conn.commit() # Inserting and saving the data into the database\n",
    "print(\"data inserted successfullly\")"
   ]
  },
  {
   "cell_type": "code",
   "execution_count": 36,
   "id": "b35ee513",
   "metadata": {},
   "outputs": [
    {
     "data": {
      "text/html": [
       "<div>\n",
       "<style scoped>\n",
       "    .dataframe tbody tr th:only-of-type {\n",
       "        vertical-align: middle;\n",
       "    }\n",
       "\n",
       "    .dataframe tbody tr th {\n",
       "        vertical-align: top;\n",
       "    }\n",
       "\n",
       "    .dataframe thead th {\n",
       "        text-align: right;\n",
       "    }\n",
       "</style>\n",
       "<table border=\"1\" class=\"dataframe\">\n",
       "  <thead>\n",
       "    <tr style=\"text-align: right;\">\n",
       "      <th></th>\n",
       "      <th>Store</th>\n",
       "      <th>Years_as_manager</th>\n",
       "      <th>Email</th>\n",
       "      <th>first_name</th>\n",
       "      <th>last_name</th>\n",
       "      <th>manager_id</th>\n",
       "      <th>postal_code</th>\n",
       "    </tr>\n",
       "  </thead>\n",
       "  <tbody>\n",
       "    <tr>\n",
       "      <th>0</th>\n",
       "      <td>1</td>\n",
       "      <td>1</td>\n",
       "      <td>Robert.Alvey@Walmart.org</td>\n",
       "      <td>Robert</td>\n",
       "      <td>Alvey</td>\n",
       "      <td>1</td>\n",
       "      <td>94550</td>\n",
       "    </tr>\n",
       "    <tr>\n",
       "      <th>1</th>\n",
       "      <td>2</td>\n",
       "      <td>11</td>\n",
       "      <td>Jerry.Martinez@Walmart.org</td>\n",
       "      <td>Jerry</td>\n",
       "      <td>Martinez</td>\n",
       "      <td>2</td>\n",
       "      <td>94550</td>\n",
       "    </tr>\n",
       "    <tr>\n",
       "      <th>2</th>\n",
       "      <td>3</td>\n",
       "      <td>7</td>\n",
       "      <td>Susanna.Kellner@Walmart.org</td>\n",
       "      <td>Susanna</td>\n",
       "      <td>Kellner</td>\n",
       "      <td>3</td>\n",
       "      <td>94607</td>\n",
       "    </tr>\n",
       "    <tr>\n",
       "      <th>3</th>\n",
       "      <td>4</td>\n",
       "      <td>1</td>\n",
       "      <td>Marco.Spivey@Walmart.org</td>\n",
       "      <td>Marco</td>\n",
       "      <td>Spivey</td>\n",
       "      <td>4</td>\n",
       "      <td>94610</td>\n",
       "    </tr>\n",
       "    <tr>\n",
       "      <th>4</th>\n",
       "      <td>5</td>\n",
       "      <td>13</td>\n",
       "      <td>Timothy.Narvaez@Walmart.org</td>\n",
       "      <td>Timothy</td>\n",
       "      <td>Narvaez</td>\n",
       "      <td>5</td>\n",
       "      <td>92373</td>\n",
       "    </tr>\n",
       "  </tbody>\n",
       "</table>\n",
       "</div>"
      ],
      "text/plain": [
       "   Store  Years_as_manager                        Email first_name last_name  \\\n",
       "0      1                 1     Robert.Alvey@Walmart.org     Robert     Alvey   \n",
       "1      2                11   Jerry.Martinez@Walmart.org      Jerry  Martinez   \n",
       "2      3                 7  Susanna.Kellner@Walmart.org    Susanna   Kellner   \n",
       "3      4                 1     Marco.Spivey@Walmart.org      Marco    Spivey   \n",
       "4      5                13  Timothy.Narvaez@Walmart.org    Timothy   Narvaez   \n",
       "\n",
       "   manager_id postal_code  \n",
       "0           1       94550  \n",
       "1           2       94550  \n",
       "2           3       94607  \n",
       "3           4       94610  \n",
       "4           5       92373  "
      ]
     },
     "execution_count": 36,
     "metadata": {},
     "output_type": "execute_result"
    }
   ],
   "source": [
    "df1.head() # First five observations on the table."
   ]
  },
  {
   "cell_type": "markdown",
   "id": "c11f5913",
   "metadata": {},
   "source": [
    "### Address- table"
   ]
  },
  {
   "cell_type": "code",
   "execution_count": 37,
   "id": "17895f1d",
   "metadata": {},
   "outputs": [],
   "source": [
    "# Application of dictionary to the address\n",
    "address = {\n",
    "    \"postal_code\":df1[\"postal_code\"].tolist(),\n",
    "    \"city\":city,\n",
    "    \"state\":state,\n",
    "    \"address\":address\n",
    "}\n",
    "\n",
    "\n",
    "\n",
    "daddr = pd.DataFrame(address)"
   ]
  },
  {
   "cell_type": "code",
   "execution_count": 38,
   "id": "e79b2bfd",
   "metadata": {},
   "outputs": [
    {
     "data": {
      "text/html": [
       "<div>\n",
       "<style scoped>\n",
       "    .dataframe tbody tr th:only-of-type {\n",
       "        vertical-align: middle;\n",
       "    }\n",
       "\n",
       "    .dataframe tbody tr th {\n",
       "        vertical-align: top;\n",
       "    }\n",
       "\n",
       "    .dataframe thead th {\n",
       "        text-align: right;\n",
       "    }\n",
       "</style>\n",
       "<table border=\"1\" class=\"dataframe\">\n",
       "  <thead>\n",
       "    <tr style=\"text-align: right;\">\n",
       "      <th></th>\n",
       "      <th>postal_code</th>\n",
       "      <th>city</th>\n",
       "      <th>state</th>\n",
       "      <th>address</th>\n",
       "    </tr>\n",
       "  </thead>\n",
       "  <tbody>\n",
       "    <tr>\n",
       "      <th>0</th>\n",
       "      <td>94550</td>\n",
       "      <td>Livermore</td>\n",
       "      <td>CA</td>\n",
       "      <td>4971 Janet Court</td>\n",
       "    </tr>\n",
       "    <tr>\n",
       "      <th>1</th>\n",
       "      <td>94550</td>\n",
       "      <td>Livermore</td>\n",
       "      <td>CA</td>\n",
       "      <td>4439 Gale Street</td>\n",
       "    </tr>\n",
       "    <tr>\n",
       "      <th>2</th>\n",
       "      <td>94607</td>\n",
       "      <td>Oakland</td>\n",
       "      <td>CA</td>\n",
       "      <td>856 Milton Street</td>\n",
       "    </tr>\n",
       "    <tr>\n",
       "      <th>3</th>\n",
       "      <td>94610</td>\n",
       "      <td>Oakland</td>\n",
       "      <td>CA</td>\n",
       "      <td>474 Merritt Avenue</td>\n",
       "    </tr>\n",
       "    <tr>\n",
       "      <th>4</th>\n",
       "      <td>92373</td>\n",
       "      <td>Redlands</td>\n",
       "      <td>CA</td>\n",
       "      <td>129 Grant Street</td>\n",
       "    </tr>\n",
       "  </tbody>\n",
       "</table>\n",
       "</div>"
      ],
      "text/plain": [
       "  postal_code       city state             address\n",
       "0       94550  Livermore    CA    4971 Janet Court\n",
       "1       94550  Livermore    CA    4439 Gale Street\n",
       "2       94607    Oakland    CA   856 Milton Street\n",
       "3       94610    Oakland    CA  474 Merritt Avenue\n",
       "4       92373   Redlands    CA    129 Grant Street"
      ]
     },
     "execution_count": 38,
     "metadata": {},
     "output_type": "execute_result"
    }
   ],
   "source": [
    "daddr.head() # First five observation of the Address table"
   ]
  },
  {
   "cell_type": "code",
   "execution_count": 39,
   "id": "9dc334a9",
   "metadata": {},
   "outputs": [],
   "source": [
    "daddr = daddr.drop_duplicates(subset='postal_code', keep=\"first\")"
   ]
  },
  {
   "cell_type": "markdown",
   "id": "b3da14f3",
   "metadata": {},
   "source": [
    "#### Creating columns and inserting the Address table into the database - data in SQLite¶"
   ]
  },
  {
   "cell_type": "code",
   "execution_count": 40,
   "id": "ebe5f4ec",
   "metadata": {},
   "outputs": [
    {
     "name": "stdout",
     "output_type": "stream",
     "text": [
      "table created successfully\n"
     ]
    }
   ],
   "source": [
    "curr.execute(\"drop table if exists address\")\n",
    "# creating the variables or columns for the Address table\n",
    "curr.execute(\"create table address (postal_code int,city Text, state Text,address Text, PRIMARY KEY (postal_code), unique(postal_code))\")\n",
    "print(\"table created successfully\")"
   ]
  },
  {
   "cell_type": "code",
   "execution_count": 41,
   "id": "7b9a4927",
   "metadata": {},
   "outputs": [
    {
     "name": "stdout",
     "output_type": "stream",
     "text": [
      "data inserted successfullly\n"
     ]
    }
   ],
   "source": [
    "# df2 = df2.reset_index()   # make sure indexes pair with number of rows\n",
    "for index,row in daddr.iterrows():\n",
    "    curr.execute(\"insert into address (postal_code,city,state,address) values(?,?,?,?)\",(row['postal_code'],row['city'],row['state'],row['address'],))\n",
    "conn.commit() # Inserting and saving the data into the database\n",
    "print(\"data inserted successfullly\")"
   ]
  },
  {
   "cell_type": "markdown",
   "id": "24be62d9",
   "metadata": {},
   "source": [
    "### Manager_store- Table"
   ]
  },
  {
   "cell_type": "code",
   "execution_count": 42,
   "id": "6e1f99c2",
   "metadata": {},
   "outputs": [],
   "source": [
    "manager_store = {\n",
    "    \"store\":df1['Store'].tolist(),\n",
    "    \"manager_id\":df1['manager_id'].tolist()\n",
    "}\n",
    "\n",
    "dms = pd.DataFrame(manager_store)"
   ]
  },
  {
   "cell_type": "code",
   "execution_count": 43,
   "id": "0547b0d2",
   "metadata": {},
   "outputs": [
    {
     "data": {
      "text/html": [
       "<div>\n",
       "<style scoped>\n",
       "    .dataframe tbody tr th:only-of-type {\n",
       "        vertical-align: middle;\n",
       "    }\n",
       "\n",
       "    .dataframe tbody tr th {\n",
       "        vertical-align: top;\n",
       "    }\n",
       "\n",
       "    .dataframe thead th {\n",
       "        text-align: right;\n",
       "    }\n",
       "</style>\n",
       "<table border=\"1\" class=\"dataframe\">\n",
       "  <thead>\n",
       "    <tr style=\"text-align: right;\">\n",
       "      <th></th>\n",
       "      <th>store</th>\n",
       "      <th>manager_id</th>\n",
       "    </tr>\n",
       "  </thead>\n",
       "  <tbody>\n",
       "    <tr>\n",
       "      <th>0</th>\n",
       "      <td>1</td>\n",
       "      <td>1</td>\n",
       "    </tr>\n",
       "    <tr>\n",
       "      <th>1</th>\n",
       "      <td>2</td>\n",
       "      <td>2</td>\n",
       "    </tr>\n",
       "    <tr>\n",
       "      <th>2</th>\n",
       "      <td>3</td>\n",
       "      <td>3</td>\n",
       "    </tr>\n",
       "    <tr>\n",
       "      <th>3</th>\n",
       "      <td>4</td>\n",
       "      <td>4</td>\n",
       "    </tr>\n",
       "    <tr>\n",
       "      <th>4</th>\n",
       "      <td>5</td>\n",
       "      <td>5</td>\n",
       "    </tr>\n",
       "    <tr>\n",
       "      <th>5</th>\n",
       "      <td>6</td>\n",
       "      <td>6</td>\n",
       "    </tr>\n",
       "    <tr>\n",
       "      <th>6</th>\n",
       "      <td>7</td>\n",
       "      <td>7</td>\n",
       "    </tr>\n",
       "    <tr>\n",
       "      <th>7</th>\n",
       "      <td>8</td>\n",
       "      <td>8</td>\n",
       "    </tr>\n",
       "    <tr>\n",
       "      <th>8</th>\n",
       "      <td>9</td>\n",
       "      <td>9</td>\n",
       "    </tr>\n",
       "  </tbody>\n",
       "</table>\n",
       "</div>"
      ],
      "text/plain": [
       "   store  manager_id\n",
       "0      1           1\n",
       "1      2           2\n",
       "2      3           3\n",
       "3      4           4\n",
       "4      5           5\n",
       "5      6           6\n",
       "6      7           7\n",
       "7      8           8\n",
       "8      9           9"
      ]
     },
     "execution_count": 43,
     "metadata": {},
     "output_type": "execute_result"
    }
   ],
   "source": [
    "dms.head(9)"
   ]
  },
  {
   "cell_type": "markdown",
   "id": "ed2758b6",
   "metadata": {},
   "source": [
    "#### Creating columns and inserting the Manager_store  table into the database - data in SQLite¶"
   ]
  },
  {
   "cell_type": "code",
   "execution_count": 44,
   "id": "e3b18951",
   "metadata": {},
   "outputs": [
    {
     "name": "stdout",
     "output_type": "stream",
     "text": [
      "table created successfully\n"
     ]
    }
   ],
   "source": [
    "curr.execute(\"drop table if exists manager_store\")\n",
    "# creating the variables or columns for the Manager_store table\n",
    "curr.execute(\"create table manager_store (store Int,manager_id Text, PRIMARY KEY (store), FOREIGN KEY (store) REFERENCES store_data (store),FOREIGN KEY (manager_id) REFERENCES manager (manager_id),unique(store))\")\n",
    "print(\"table created successfully\")"
   ]
  },
  {
   "cell_type": "code",
   "execution_count": 45,
   "id": "bc170492",
   "metadata": {},
   "outputs": [
    {
     "name": "stdout",
     "output_type": "stream",
     "text": [
      "data inserted successfullly\n"
     ]
    }
   ],
   "source": [
    "# df2 = df2.reset_index()   # make sure indexes pair with number of rows\n",
    "for index,row in dms.iterrows():\n",
    "    curr.execute(\"insert into manager_store (manager_id,store) values(?,?)\",(row['manager_id'],row['store']))\n",
    "conn.commit() # Inserting and saving the data into the database\n",
    "print(\"data inserted successfullly\")"
   ]
  },
  {
   "cell_type": "markdown",
   "id": "76dcf6bc",
   "metadata": {},
   "source": [
    "### Stores Data - Table"
   ]
  },
  {
   "cell_type": "code",
   "execution_count": 46,
   "id": "b0f872c6",
   "metadata": {},
   "outputs": [],
   "source": [
    "df2 = pd.read_csv('stores_data-set.csv') # Loading the stores_data-set"
   ]
  },
  {
   "cell_type": "code",
   "execution_count": 47,
   "id": "b7fdfe53",
   "metadata": {},
   "outputs": [
    {
     "data": {
      "text/plain": [
       "(45, 3)"
      ]
     },
     "execution_count": 47,
     "metadata": {},
     "output_type": "execute_result"
    }
   ],
   "source": [
    "df2.shape # Finding the number of observations and variables"
   ]
  },
  {
   "cell_type": "code",
   "execution_count": 48,
   "id": "200d3a11",
   "metadata": {},
   "outputs": [
    {
     "data": {
      "text/plain": [
       "2"
      ]
     },
     "execution_count": 48,
     "metadata": {},
     "output_type": "execute_result"
    }
   ],
   "source": [
    "df2.ndim # The dimension of the dataset"
   ]
  },
  {
   "cell_type": "code",
   "execution_count": 49,
   "id": "f0b1b20a",
   "metadata": {},
   "outputs": [
    {
     "name": "stdout",
     "output_type": "stream",
     "text": [
      "<class 'pandas.core.frame.DataFrame'>\n",
      "RangeIndex: 45 entries, 0 to 44\n",
      "Data columns (total 3 columns):\n",
      " #   Column  Non-Null Count  Dtype  \n",
      "---  ------  --------------  -----  \n",
      " 0   Store   45 non-null     int64  \n",
      " 1   Type    45 non-null     object \n",
      " 2   Size    43 non-null     float64\n",
      "dtypes: float64(1), int64(1), object(1)\n",
      "memory usage: 1.2+ KB\n"
     ]
    }
   ],
   "source": [
    "df2.info() # Understanding the structure of the dataset and data types of the variables."
   ]
  },
  {
   "cell_type": "code",
   "execution_count": 50,
   "id": "2d1895ec",
   "metadata": {},
   "outputs": [
    {
     "data": {
      "text/html": [
       "<div>\n",
       "<style scoped>\n",
       "    .dataframe tbody tr th:only-of-type {\n",
       "        vertical-align: middle;\n",
       "    }\n",
       "\n",
       "    .dataframe tbody tr th {\n",
       "        vertical-align: top;\n",
       "    }\n",
       "\n",
       "    .dataframe thead th {\n",
       "        text-align: right;\n",
       "    }\n",
       "</style>\n",
       "<table border=\"1\" class=\"dataframe\">\n",
       "  <thead>\n",
       "    <tr style=\"text-align: right;\">\n",
       "      <th></th>\n",
       "      <th>Store</th>\n",
       "      <th>Size</th>\n",
       "    </tr>\n",
       "  </thead>\n",
       "  <tbody>\n",
       "    <tr>\n",
       "      <th>count</th>\n",
       "      <td>45.000000</td>\n",
       "      <td>43.000000</td>\n",
       "    </tr>\n",
       "    <tr>\n",
       "      <th>mean</th>\n",
       "      <td>23.000000</td>\n",
       "      <td>129923.069767</td>\n",
       "    </tr>\n",
       "    <tr>\n",
       "      <th>std</th>\n",
       "      <td>13.133926</td>\n",
       "      <td>65228.295508</td>\n",
       "    </tr>\n",
       "    <tr>\n",
       "      <th>min</th>\n",
       "      <td>1.000000</td>\n",
       "      <td>34875.000000</td>\n",
       "    </tr>\n",
       "    <tr>\n",
       "      <th>25%</th>\n",
       "      <td>12.000000</td>\n",
       "      <td>63955.000000</td>\n",
       "    </tr>\n",
       "    <tr>\n",
       "      <th>50%</th>\n",
       "      <td>23.000000</td>\n",
       "      <td>126512.000000</td>\n",
       "    </tr>\n",
       "    <tr>\n",
       "      <th>75%</th>\n",
       "      <td>34.000000</td>\n",
       "      <td>202406.000000</td>\n",
       "    </tr>\n",
       "    <tr>\n",
       "      <th>max</th>\n",
       "      <td>45.000000</td>\n",
       "      <td>219622.000000</td>\n",
       "    </tr>\n",
       "  </tbody>\n",
       "</table>\n",
       "</div>"
      ],
      "text/plain": [
       "           Store           Size\n",
       "count  45.000000      43.000000\n",
       "mean   23.000000  129923.069767\n",
       "std    13.133926   65228.295508\n",
       "min     1.000000   34875.000000\n",
       "25%    12.000000   63955.000000\n",
       "50%    23.000000  126512.000000\n",
       "75%    34.000000  202406.000000\n",
       "max    45.000000  219622.000000"
      ]
     },
     "execution_count": 50,
     "metadata": {},
     "output_type": "execute_result"
    }
   ],
   "source": [
    "df2.describe() # The statistical description of the numerical variables"
   ]
  },
  {
   "cell_type": "markdown",
   "id": "342cc8b1",
   "metadata": {},
   "source": [
    "#### Data Pre-processing"
   ]
  },
  {
   "cell_type": "code",
   "execution_count": 51,
   "id": "e9aa54ed",
   "metadata": {},
   "outputs": [
    {
     "data": {
      "text/plain": [
       "Store    0\n",
       "Type     0\n",
       "Size     2\n",
       "dtype: int64"
      ]
     },
     "execution_count": 51,
     "metadata": {},
     "output_type": "execute_result"
    }
   ],
   "source": [
    "df2.isna().sum() # Checking for null values"
   ]
  },
  {
   "cell_type": "code",
   "execution_count": 52,
   "id": "b9566265",
   "metadata": {},
   "outputs": [],
   "source": [
    "df2.fillna({'Size':df2['Size'].median()}, inplace=True) # Imputation with median technique."
   ]
  },
  {
   "cell_type": "code",
   "execution_count": 53,
   "id": "57ec0bc8",
   "metadata": {},
   "outputs": [
    {
     "data": {
      "text/plain": [
       "Store    0\n",
       "Type     0\n",
       "Size     0\n",
       "dtype: int64"
      ]
     },
     "execution_count": 53,
     "metadata": {},
     "output_type": "execute_result"
    }
   ],
   "source": [
    "df2.isna().sum() # Viewing after data cleaning."
   ]
  },
  {
   "cell_type": "markdown",
   "id": "dc66d32e",
   "metadata": {},
   "source": [
    "#### Creating columns and inserting the Store_data-set  table into the database - data in SQLite¶"
   ]
  },
  {
   "cell_type": "code",
   "execution_count": 54,
   "id": "29819584",
   "metadata": {},
   "outputs": [
    {
     "name": "stdout",
     "output_type": "stream",
     "text": [
      "table created successfully\n"
     ]
    }
   ],
   "source": [
    "curr.execute(\"drop table if exists store_data\")\n",
    "# creating the variables or columns for the store_data table\n",
    "curr.execute(\"create table store_data (store int primary key unique,  type text, size int)\")\n",
    "print(\"table created successfully\")"
   ]
  },
  {
   "cell_type": "code",
   "execution_count": 55,
   "id": "1603e54b",
   "metadata": {},
   "outputs": [
    {
     "name": "stdout",
     "output_type": "stream",
     "text": [
      "data inserted successfullly\n"
     ]
    }
   ],
   "source": [
    "# df2 = df2.reset_index()   # make sure indexes pair with number of rows\n",
    "for index,row in df2.iterrows():\n",
    "    curr.execute(\"insert into store_data (store,type,size) values(?,?,?)\",(row['Store'],row['Type'],row['Size']))\n",
    "    conn.commit()  # Inserting and saving the data into the database\n",
    "print(\"data inserted successfullly\")"
   ]
  },
  {
   "cell_type": "markdown",
   "id": "cbd70f63",
   "metadata": {},
   "source": [
    "### sales_data - Table"
   ]
  },
  {
   "cell_type": "code",
   "execution_count": 56,
   "id": "18446a10",
   "metadata": {},
   "outputs": [],
   "source": [
    "df3 = pd.read_csv('sales_data-set.csv') # Loading the sales_data-set dataset"
   ]
  },
  {
   "cell_type": "code",
   "execution_count": 57,
   "id": "ccd30d77",
   "metadata": {},
   "outputs": [
    {
     "data": {
      "text/plain": [
       "(421570, 5)"
      ]
     },
     "execution_count": 57,
     "metadata": {},
     "output_type": "execute_result"
    }
   ],
   "source": [
    "df3.shape # Finding the number of observations and variables"
   ]
  },
  {
   "cell_type": "code",
   "execution_count": 58,
   "id": "47cd8fe9",
   "metadata": {},
   "outputs": [
    {
     "data": {
      "text/plain": [
       "2"
      ]
     },
     "execution_count": 58,
     "metadata": {},
     "output_type": "execute_result"
    }
   ],
   "source": [
    "df3.ndim # The dimension of the dataset"
   ]
  },
  {
   "cell_type": "code",
   "execution_count": 59,
   "id": "4208a1ac",
   "metadata": {},
   "outputs": [
    {
     "name": "stdout",
     "output_type": "stream",
     "text": [
      "<class 'pandas.core.frame.DataFrame'>\n",
      "RangeIndex: 421570 entries, 0 to 421569\n",
      "Data columns (total 5 columns):\n",
      " #   Column        Non-Null Count   Dtype  \n",
      "---  ------        --------------   -----  \n",
      " 0   Store         421570 non-null  int64  \n",
      " 1   Dept          421570 non-null  int64  \n",
      " 2   Date          421570 non-null  object \n",
      " 3   Weekly_Sales  421570 non-null  float64\n",
      " 4   IsHoliday     421570 non-null  bool   \n",
      "dtypes: bool(1), float64(1), int64(2), object(1)\n",
      "memory usage: 13.3+ MB\n"
     ]
    }
   ],
   "source": [
    "df3.info() # Understanding the data structure and the data type of the variables"
   ]
  },
  {
   "cell_type": "code",
   "execution_count": 60,
   "id": "d5c5617e",
   "metadata": {},
   "outputs": [
    {
     "data": {
      "text/html": [
       "<div>\n",
       "<style scoped>\n",
       "    .dataframe tbody tr th:only-of-type {\n",
       "        vertical-align: middle;\n",
       "    }\n",
       "\n",
       "    .dataframe tbody tr th {\n",
       "        vertical-align: top;\n",
       "    }\n",
       "\n",
       "    .dataframe thead th {\n",
       "        text-align: right;\n",
       "    }\n",
       "</style>\n",
       "<table border=\"1\" class=\"dataframe\">\n",
       "  <thead>\n",
       "    <tr style=\"text-align: right;\">\n",
       "      <th></th>\n",
       "      <th>Store</th>\n",
       "      <th>Dept</th>\n",
       "      <th>Weekly_Sales</th>\n",
       "    </tr>\n",
       "  </thead>\n",
       "  <tbody>\n",
       "    <tr>\n",
       "      <th>count</th>\n",
       "      <td>421570.000000</td>\n",
       "      <td>421570.000000</td>\n",
       "      <td>421570.000000</td>\n",
       "    </tr>\n",
       "    <tr>\n",
       "      <th>mean</th>\n",
       "      <td>22.200546</td>\n",
       "      <td>44.260317</td>\n",
       "      <td>15981.258123</td>\n",
       "    </tr>\n",
       "    <tr>\n",
       "      <th>std</th>\n",
       "      <td>12.785297</td>\n",
       "      <td>30.492054</td>\n",
       "      <td>22711.183519</td>\n",
       "    </tr>\n",
       "    <tr>\n",
       "      <th>min</th>\n",
       "      <td>1.000000</td>\n",
       "      <td>1.000000</td>\n",
       "      <td>-4988.940000</td>\n",
       "    </tr>\n",
       "    <tr>\n",
       "      <th>25%</th>\n",
       "      <td>11.000000</td>\n",
       "      <td>18.000000</td>\n",
       "      <td>2079.650000</td>\n",
       "    </tr>\n",
       "    <tr>\n",
       "      <th>50%</th>\n",
       "      <td>22.000000</td>\n",
       "      <td>37.000000</td>\n",
       "      <td>7612.030000</td>\n",
       "    </tr>\n",
       "    <tr>\n",
       "      <th>75%</th>\n",
       "      <td>33.000000</td>\n",
       "      <td>74.000000</td>\n",
       "      <td>20205.852500</td>\n",
       "    </tr>\n",
       "    <tr>\n",
       "      <th>max</th>\n",
       "      <td>45.000000</td>\n",
       "      <td>99.000000</td>\n",
       "      <td>693099.360000</td>\n",
       "    </tr>\n",
       "  </tbody>\n",
       "</table>\n",
       "</div>"
      ],
      "text/plain": [
       "               Store           Dept   Weekly_Sales\n",
       "count  421570.000000  421570.000000  421570.000000\n",
       "mean       22.200546      44.260317   15981.258123\n",
       "std        12.785297      30.492054   22711.183519\n",
       "min         1.000000       1.000000   -4988.940000\n",
       "25%        11.000000      18.000000    2079.650000\n",
       "50%        22.000000      37.000000    7612.030000\n",
       "75%        33.000000      74.000000   20205.852500\n",
       "max        45.000000      99.000000  693099.360000"
      ]
     },
     "execution_count": 60,
     "metadata": {},
     "output_type": "execute_result"
    }
   ],
   "source": [
    "df3.describe() # Statistical description of the dataset."
   ]
  },
  {
   "cell_type": "markdown",
   "id": "d228000f",
   "metadata": {},
   "source": [
    "#### Data Pre-processing "
   ]
  },
  {
   "cell_type": "code",
   "execution_count": 61,
   "id": "469274a8",
   "metadata": {},
   "outputs": [
    {
     "data": {
      "text/plain": [
       "Store           0\n",
       "Dept            0\n",
       "Date            0\n",
       "Weekly_Sales    0\n",
       "IsHoliday       0\n",
       "dtype: int64"
      ]
     },
     "execution_count": 61,
     "metadata": {},
     "output_type": "execute_result"
    }
   ],
   "source": [
    "df3.isna().sum() # Checking for null values"
   ]
  },
  {
   "cell_type": "markdown",
   "id": "a0f9d7b9",
   "metadata": {},
   "source": [
    "#### Creating columns and inserting the Sales_data-set table into the database - data in SQLite¶"
   ]
  },
  {
   "cell_type": "code",
   "execution_count": 62,
   "id": "cf8dc650",
   "metadata": {},
   "outputs": [
    {
     "name": "stdout",
     "output_type": "stream",
     "text": [
      "table created successfully\n"
     ]
    }
   ],
   "source": [
    "curr.execute(\"drop table if exists sales_data\")\n",
    "# creating the variables or columns for the sales_data table\n",
    "curr.execute(\"create table sales_data (store int,department int, date Text, weekly_sales double, FOREIGN KEY (date) REFERENCES date_isholiday (date),FOREIGN KEY (store) REFERENCES store_data (store),PRIMARY KEY (store,department, date), unique(store,department, date))\")\n",
    "print(\"table created successfully\")"
   ]
  },
  {
   "cell_type": "code",
   "execution_count": 63,
   "id": "74f71ff6",
   "metadata": {},
   "outputs": [
    {
     "name": "stdout",
     "output_type": "stream",
     "text": [
      "data inserted successfullly\n"
     ]
    }
   ],
   "source": [
    "# df2 = df2.reset_index()   # make sure indexes pair with number of rows\n",
    "for index,row in df3.iterrows():\n",
    "    curr.execute(\"insert into sales_data (store,department,date,weekly_sales) values(?,?,?,?)\",(row['Store'],row['Dept'],row['Date'],row['Weekly_Sales']))\n",
    "conn.commit()  # Inserting and saving the data into the database\n",
    "print(\"data inserted successfullly\")"
   ]
  },
  {
   "cell_type": "code",
   "execution_count": null,
   "id": "99d8dfd8",
   "metadata": {},
   "outputs": [],
   "source": []
  },
  {
   "cell_type": "code",
   "execution_count": null,
   "id": "9730e07c",
   "metadata": {},
   "outputs": [],
   "source": []
  }
 ],
 "metadata": {
  "kernelspec": {
   "display_name": "Python 3 (ipykernel)",
   "language": "python",
   "name": "python3"
  },
  "language_info": {
   "codemirror_mode": {
    "name": "ipython",
    "version": 3
   },
   "file_extension": ".py",
   "mimetype": "text/x-python",
   "name": "python",
   "nbconvert_exporter": "python",
   "pygments_lexer": "ipython3",
   "version": "3.9.7"
  }
 },
 "nbformat": 4,
 "nbformat_minor": 5
}
